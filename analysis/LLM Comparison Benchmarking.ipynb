{
 "cells": [
  {
   "cell_type": "markdown",
   "id": "187ce76e",
   "metadata": {},
   "source": [
    "# LLM Code Comparison Benchmark (eval the eval)\n",
    "\n",
    "Measures how often the LLM correctly predicts whether a PR will resolve an issue, should be useful for prompt optimization and seeing how accurate LLM code comparison is relative to running tests.\n",
    "\n",
    "Compares SWEBench-submitted patches to ground truth patches, and sees if the LLM can guess whether the submitted patch would resolve the issue.\n",
    "\n",
    "### Envars:\n",
    "- `OPENAI_API_KEY` for LLM calls"
   ]
  },
  {
   "cell_type": "code",
   "execution_count": 3,
   "id": "69162d4c-530d-4654-8bbb-bc9355d131c6",
   "metadata": {},
   "outputs": [
    {
     "name": "stdout",
     "output_type": "stream",
     "text": [
      "Cloning into 'experiments'...\n",
      "remote: Enumerating objects: 2911, done.\u001b[K\n",
      "remote: Counting objects: 100% (1667/1667), done.\u001b[K\n",
      "remote: Compressing objects: 100% (1094/1094), done.\u001b[K\n",
      "remote: Total 2911 (delta 631), reused 740 (delta 572), pack-reused 1244 (from 1)\u001b[K\n",
      "Receiving objects: 100% (2911/2911), 64.70 MiB | 16.28 MiB/s, done.\n",
      "Resolving deltas: 100% (1046/1046), done.\n",
      "Updating files: 100% (2172/2172), done.\n"
     ]
    }
   ],
   "source": [
    "!pip install -q datasets openai datasets\n",
    "!git clone https://github.com/swe-bench/experiments.git"
   ]
  },
  {
   "cell_type": "code",
   "execution_count": 5,
   "id": "29194390-df8f-4b5d-ba59-8422b21e72db",
   "metadata": {},
   "outputs": [
    {
     "name": "stderr",
     "output_type": "stream",
     "text": [
      "/Users/alex/workspace/trading-projects/bittensor-projects/taoception/taoception-venv/lib/python3.12/site-packages/tqdm/auto.py:21: TqdmWarning: IProgress not found. Please update jupyter and ipywidgets. See https://ipywidgets.readthedocs.io/en/stable/user_install.html\n",
      "  from .autonotebook import tqdm as notebook_tqdm\n"
     ]
    }
   ],
   "source": [
    "from pathlib import Path\n",
    "import json\n",
    "import random\n",
    "from datasets import load_dataset\n",
    "\n",
    "\n",
    "eval_dir = Path(\"experiments/evaluation/lite\")\n",
    "ds = load_dataset(\"princeton-nlp/SWE-bench_Lite\")"
   ]
  },
  {
   "cell_type": "code",
   "execution_count": 9,
   "id": "aa3a0c23-c0e9-4193-8600-31246ebaec47",
   "metadata": {},
   "outputs": [],
   "source": [
    "from dataclasses import dataclass\n",
    "from typing import *\n",
    "import datasets\n",
    "\n",
    "\n",
    "@dataclass\n",
    "class IssueSubmission:\n",
    "    instance_id: str\n",
    "    problem_statement: str\n",
    "    model_patch: str\n",
    "    gold_patch: str\n",
    "    resolved_state: str\n",
    "    submission_dir: str\n",
    "\n",
    "datasets.logging.set_verbosity(datasets.logging.CRITICAL)\n",
    "\n",
    "instance_to_state = {}\n",
    "\n",
    "def get_instances(max_items: Optional[int] = None, random_shuffle: bool = True) -> List[IssueSubmission]:\n",
    "    instances = []\n",
    "\n",
    "    all_dirs = list(eval_dir.iterdir())\n",
    "    if random_shuffle:\n",
    "        random.shuffle(all_dirs)\n",
    "\n",
    "    for current_dir in all_dirs:\n",
    "        print(f\"Using SWEBench submission at {current_dir}\")\n",
    "\n",
    "        print(\"Loading results.json...\")\n",
    "        with open(current_dir / \"results/results.json\", \"r\") as file:\n",
    "            swebench_results = json.load(file)\n",
    "        print(\"Finished loading results.json\")\n",
    "    \n",
    "        # Amend reverse map\n",
    "        for state, instance_ids in swebench_results.items():\n",
    "            for iid in instance_ids:\n",
    "                instance_to_state[iid] = state\n",
    "\n",
    "        print(\"Loading submitted preds...\")\n",
    "        with open(current_dir / \"all_preds.jsonl\", \"r\") as file:\n",
    "            submitted_preds = [json.loads(line) for line in file]\n",
    "        print(f\"Loadeded submitted preds, length={len(submitted_preds)}\")\n",
    "\n",
    "        for submitted_pred in submitted_preds:\n",
    "            instance_id, model_patch = submitted_pred[\"instance_id\"], submitted_pred[\"model_patch\"]\n",
    "            resolved_state = instance_to_state[instance_id]\n",
    "\n",
    "            issue_row = ds[\"test\"].filter(lambda row: row[\"instance_id\"] == instance_id)[0]\n",
    "            gold_patch, problem_statement = issue_row[\"patch\"], issue_row[\"problem_statement\"]\n",
    "\n",
    "            # print(\"Adding instance of id \", instance_id)\n",
    "            instances.append(IssueSubmission(instance_id, problem_statement, model_patch, gold_patch, resolved_state, current_dir))\n",
    "\n",
    "            if max_items is not None and len(instances) > max_items:\n",
    "                print(f\"Reached limit of {max_items} instances. Returning...\")\n",
    "                return instances\n",
    "        print(f\"Reached end of current dir {current_dir}. Instances: {len(instances)}\")\n",
    "\n",
    "    return instances"
   ]
  },
  {
   "cell_type": "code",
   "execution_count": 60,
   "id": "6eefd399-4579-4867-99d3-6c52f1695c5d",
   "metadata": {},
   "outputs": [],
   "source": [
    "import os\n",
    "from collections import Counter\n",
    "from openai import OpenAI\n",
    "\n",
    "client = OpenAI()\n",
    "\n",
    "def eval_issue_submission(llm_prompt_template: str, issue_submission: IssueSubmission) -> int:\n",
    "    prompt = llm_prompt_template.format(\n",
    "        model_patch=issue_submission.model_patch,\n",
    "        gold_patch=issue_submission.gold_patch,\n",
    "        problem_statement=issue_submission.problem_statement\n",
    "    )\n",
    "    response = client.chat.completions.create(\n",
    "        model=\"gpt-4o\",\n",
    "        messages=[{\"role\": \"user\", \"content\": prompt}],\n",
    "    )\n",
    "    comparison = response.choices[0].message.content\n",
    "    return comparison[-1]\n",
    "\n",
    "\n",
    "def eval_prompt(llm_prompt_template: str, num_issues: int = 10, should_log=True) -> None:\n",
    "    # Gather data\n",
    "    instances = get_instances(max_items=num_issues, random_shuffle=False)\n",
    "    \n",
    "    # Eval data\n",
    "    outputs = {}\n",
    "    for instance in instances:\n",
    "        try:\n",
    "            eval_output = eval_issue_submission(llm_prompt_template, instance)\n",
    "            if should_log:\n",
    "                print(f\"Issue {instance.instance_id} with state {instance.resolved_state}, model output={eval_output}\")\n",
    "            \n",
    "            if eval_output.isdigit() and int(eval_output) in [0, 1]:\n",
    "                outputs[instance.instance_id] = int(eval_output)\n",
    "            else:\n",
    "                print(f\"Skipping eval of issue {instance.instance_id} because model output ended with '{eval_output}' instead of 0 or 1\")\n",
    "        \n",
    "        except Exception as e:\n",
    "            print(f\"Ran into error: {e}\")\n",
    "            continue\n",
    "    return outputs\n"
   ]
  },
  {
   "cell_type": "code",
   "execution_count": 63,
   "id": "edcd3fc1-fcfb-4530-b159-c946f02922ca",
   "metadata": {},
   "outputs": [
    {
     "name": "stdout",
     "output_type": "stream",
     "text": [
      "Prompt #1:\n",
      "Using SWEBench submission at experiments/evaluation/lite/20240612_MASAI_gpt4o\n",
      "Loading results.json...\n",
      "Finished loading results.json\n",
      "Loading submitted preds...\n",
      "Loadeded submitted preds, length=287\n",
      "Reached limit of 100 instances. Returning...\n",
      "Skipping eval of issue sympy__sympy-20154 because model output ended with '.' instead of 0 or 1\n",
      "Skipping eval of issue django__django-16408 because model output ended with '.' instead of 0 or 1\n",
      "Skipping eval of issue astropy__astropy-12907 because model output ended with '.' instead of 0 or 1\n",
      "\n",
      "Eval results:\n",
      "    zeros Counter({'applied': 49, 'resolved': 5})\n",
      "    ones Counter({'resolved': 25, 'applied': 19})\n"
     ]
    }
   ],
   "source": [
    "LLM_TEMPLATE_1 = \"\"\"\n",
    "You are being asked to identify important differences between 2 solutions to a given problem. The problem is as follows:\n",
    "```\n",
    "{problem_statement}\n",
    "```\n",
    "The 1st solution is:\n",
    "```\n",
    "{model_patch}\n",
    "```\n",
    "The second solution is:\n",
    "```\n",
    "{gold_patch}\n",
    "```\n",
    "First, list all the differences between these patches of code that you can think of. \n",
    "Then, let's assume that the second patch is a correct solution to the problem. \n",
    "Based on the similarity to this patch and the differences you outlined, would you expect the first patch to also be a correct solution? \n",
    "Reason about why or why not. \n",
    "Then, output a 1 if you think the first patch will address the problem, and a 0 if you think it will not. \n",
    "Do not use markdown, and make sure the digit is the last thing you output.\n",
    "\"\"\"\n",
    "\n",
    "print(\"Prompt #1:\")\n",
    "outputs = eval_prompt(LLM_TEMPLATE_1, num_issues=100, should_log=False)\n",
    "\n",
    "# Print summary\n",
    "zeros = Counter(instance_to_state[instance_id] for instance_id, score in outputs.items() if score == 0)\n",
    "ones = Counter(instance_to_state[instance_id] for instance_id, score in outputs.items() if score == 1)\n",
    "\n",
    "print(\"\\nEval results:\")\n",
    "print(\"    zeros\", zeros)\n",
    "print(\"    ones\", ones)"
   ]
  },
  {
   "cell_type": "markdown",
   "id": "095e13b0",
   "metadata": {},
   "source": []
  }
 ],
 "metadata": {
  "kernelspec": {
   "display_name": "Python 3 (ipykernel)",
   "language": "python",
   "name": "python3"
  },
  "language_info": {
   "codemirror_mode": {
    "name": "ipython",
    "version": 3
   },
   "file_extension": ".py",
   "mimetype": "text/x-python",
   "name": "python",
   "nbconvert_exporter": "python",
   "pygments_lexer": "ipython3",
   "version": "3.12.6"
  }
 },
 "nbformat": 4,
 "nbformat_minor": 5
}
